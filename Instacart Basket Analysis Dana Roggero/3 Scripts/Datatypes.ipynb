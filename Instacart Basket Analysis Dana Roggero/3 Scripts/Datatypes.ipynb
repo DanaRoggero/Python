{
 "cells": [
  {
   "cell_type": "code",
   "execution_count": 5,
   "id": "5f556b6e-b18e-4ac9-b84c-e5c1c1c41c4e",
   "metadata": {},
   "outputs": [],
   "source": [
    "a = 150\n",
    "b = 50"
   ]
  },
  {
   "cell_type": "code",
   "execution_count": 9,
   "id": "69fa8fca-3f48-4d59-bbd0-7de291154493",
   "metadata": {},
   "outputs": [
    {
     "name": "stdout",
     "output_type": "stream",
     "text": [
      "100\n"
     ]
    }
   ],
   "source": [
    "print (a-b)"
   ]
  },
  {
   "cell_type": "code",
   "execution_count": 11,
   "id": "2849df15-a06c-4ec1-934c-48f0f85b4c02",
   "metadata": {},
   "outputs": [],
   "source": [
    "c=50\n",
    "b=50"
   ]
  },
  {
   "cell_type": "code",
   "execution_count": 13,
   "id": "19dec5b2-50d9-4022-acc1-8721f813ef66",
   "metadata": {},
   "outputs": [
    {
     "name": "stdout",
     "output_type": "stream",
     "text": [
      "100\n"
     ]
    }
   ],
   "source": [
    "print (c+b)"
   ]
  },
  {
   "cell_type": "code",
   "execution_count": 15,
   "id": "a112573d-e9b1-4721-b024-455b3f7b7469",
   "metadata": {},
   "outputs": [],
   "source": [
    "d=50\n",
    "e=2"
   ]
  },
  {
   "cell_type": "code",
   "execution_count": 17,
   "id": "d7641872-0381-456f-9934-f2780ec26864",
   "metadata": {},
   "outputs": [
    {
     "name": "stdout",
     "output_type": "stream",
     "text": [
      "100\n"
     ]
    }
   ],
   "source": [
    "print (d*e)"
   ]
  },
  {
   "cell_type": "code",
   "execution_count": 19,
   "id": "3830891c-a92d-4355-bc27-e8bb0b8fca98",
   "metadata": {},
   "outputs": [],
   "source": [
    "x=5.5\n",
    "y=2.5"
   ]
  },
  {
   "cell_type": "code",
   "execution_count": 21,
   "id": "1feac398-bef8-4518-afa3-24f2d0889966",
   "metadata": {},
   "outputs": [
    {
     "name": "stdout",
     "output_type": "stream",
     "text": [
      "2.2\n"
     ]
    }
   ],
   "source": [
    "print(x/y)"
   ]
  },
  {
   "cell_type": "code",
   "execution_count": 23,
   "id": "7ef5ed02-e93d-40a2-bbde-498cb3b760d8",
   "metadata": {},
   "outputs": [],
   "source": [
    "parte1 = \"Py\"\n",
    "parte2 = \"thon\"\n"
   ]
  },
  {
   "cell_type": "code",
   "execution_count": 27,
   "id": "6d589b04-d936-4906-a7b3-06b6ec186085",
   "metadata": {},
   "outputs": [
    {
     "name": "stdout",
     "output_type": "stream",
     "text": [
      "Py thon\n"
     ]
    }
   ],
   "source": [
    "print(parte1,parte2)"
   ]
  },
  {
   "cell_type": "code",
   "execution_count": 29,
   "id": "adfb4155-6655-415d-854e-c8bbbb4918bd",
   "metadata": {},
   "outputs": [],
   "source": [
    "parte3= \"Hallo Careerfoundry\"\n",
    "parte4= \"It is my first time coding!\""
   ]
  },
  {
   "cell_type": "code",
   "execution_count": 31,
   "id": "c1f1f0de-3b59-48a6-be9f-f5f941351101",
   "metadata": {},
   "outputs": [
    {
     "name": "stdout",
     "output_type": "stream",
     "text": [
      "Hallo Careerfoundry It is my first time coding!\n"
     ]
    }
   ],
   "source": [
    "print(parte3,parte4)"
   ]
  },
  {
   "cell_type": "code",
   "execution_count": null,
   "id": "408fef3b-d634-420f-850b-c8b807aa7651",
   "metadata": {},
   "outputs": [],
   "source": []
  }
 ],
 "metadata": {
  "kernelspec": {
   "display_name": "Python 3 (ipykernel)",
   "language": "python",
   "name": "python3"
  },
  "language_info": {
   "codemirror_mode": {
    "name": "ipython",
    "version": 3
   },
   "file_extension": ".py",
   "mimetype": "text/x-python",
   "name": "python",
   "nbconvert_exporter": "python",
   "pygments_lexer": "ipython3",
   "version": "3.12.7"
  }
 },
 "nbformat": 4,
 "nbformat_minor": 5
}
