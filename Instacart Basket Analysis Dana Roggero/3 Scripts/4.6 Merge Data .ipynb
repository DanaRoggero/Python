{
 "cells": [
  {
   "cell_type": "markdown",
   "id": "80991787-b490-41e0-80f5-84883da08b73",
   "metadata": {},
   "source": [
    "## merge the combined Data frame created before and the products dataframe"
   ]
  },
  {
   "cell_type": "code",
   "execution_count": 2,
   "id": "84926b23-9b7d-450c-b77b-20c0de3d30a1",
   "metadata": {},
   "outputs": [],
   "source": [
    "#Impoting Libraries\n",
    "import pandas as pd\n",
    "import numpy as np\n",
    "import os\n"
   ]
  },
  {
   "cell_type": "code",
   "execution_count": 3,
   "id": "5968d8c4-2a15-41ef-a5c7-7de88c08e02c",
   "metadata": {},
   "outputs": [],
   "source": [
    "#Importing the orders_products_combined data frame in Picke format\n",
    "df_ords_prods_combined = pd.read_pickle(r'C:\\Users\\danac\\Downloads\\Instacart Basket Analysis\\02 Data\\Prepared Data\\orders_products_combined.pkl')"
   ]
  },
  {
   "cell_type": "code",
   "execution_count": 4,
   "id": "3af56489-259c-4804-99ef-e1b58aaa1d12",
   "metadata": {},
   "outputs": [
    {
     "data": {
      "text/plain": [
       "(32434489, 11)"
      ]
     },
     "execution_count": 4,
     "metadata": {},
     "output_type": "execute_result"
    }
   ],
   "source": [
    "#Veryfing the shape of the data frame \n",
    "df_ords_prods_combined.shape"
   ]
  },
  {
   "cell_type": "code",
   "execution_count": 5,
   "id": "4bc3399f-9005-4918-931c-a850a09c8e85",
   "metadata": {},
   "outputs": [],
   "source": [
    "#Importing Producs clean Data set\n",
    "df_products_clean= pd.read_csv(r'C:\\Users\\danac\\Downloads\\Instacart Basket Analysis\\02 Data\\Prepared Data\\prods_checked.csv', index_col = False)"
   ]
  },
  {
   "cell_type": "code",
   "execution_count": 10,
   "id": "d8ae66d1-0de6-43b0-89db-fe9721d5c96a",
   "metadata": {},
   "outputs": [],
   "source": [
    "df_ords_prods_merge = df_products_clean.merge(df_ords_prods_combined, on='product_id')"
   ]
  },
  {
   "cell_type": "code",
   "execution_count": 14,
   "id": "c040f2f8-15e4-4eef-999b-2b96432b5976",
   "metadata": {},
   "outputs": [],
   "source": [
    "#Importing in pickle the merged data set\n",
    "df_ords_prods_merge.to_pickle(r'C:\\Users\\danac\\Downloads\\Instacart Basket Analysis\\02 Data\\Prepared Data\\orders_products_merged.pkl')"
   ]
  },
  {
   "cell_type": "code",
   "execution_count": null,
   "id": "775b494b-ac0a-455c-b71e-1d2615fe689e",
   "metadata": {},
   "outputs": [],
   "source": []
  }
 ],
 "metadata": {
  "kernelspec": {
   "display_name": "Python 3 (ipykernel)",
   "language": "python",
   "name": "python3"
  },
  "language_info": {
   "codemirror_mode": {
    "name": "ipython",
    "version": 3
   },
   "file_extension": ".py",
   "mimetype": "text/x-python",
   "name": "python",
   "nbconvert_exporter": "python",
   "pygments_lexer": "ipython3",
   "version": "3.12.7"
  }
 },
 "nbformat": 4,
 "nbformat_minor": 5
}
