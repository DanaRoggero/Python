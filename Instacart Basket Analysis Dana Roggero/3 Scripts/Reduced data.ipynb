{
 "cells": [
  {
   "cell_type": "code",
   "execution_count": 1,
   "id": "67183346-a54b-4aad-9fc5-64c15828615c",
   "metadata": {},
   "outputs": [],
   "source": [
    "#Importing libfraries\n",
    "import pandas as pd\n",
    "import numpy as np\n",
    "import os"
   ]
  },
  {
   "cell_type": "code",
   "execution_count": 3,
   "id": "5c12ac26-5512-472d-9675-89228e64546d",
   "metadata": {},
   "outputs": [],
   "source": [
    "#Creating Path\n",
    "path = r'C:\\Users\\danac\\Downloads\\Instacart Basket Analysis Dana Roggero'"
   ]
  },
  {
   "cell_type": "code",
   "execution_count": 5,
   "id": "be301bd6-fe51-4f7b-b5ba-17d681a2b891",
   "metadata": {},
   "outputs": [],
   "source": [
    "#Importing 4.9 latest Dataframe\n",
    "instacart = pd.read_pickle(os.path.join(path,'02 Data','Prepared Data','ords_prods_cust_merged.pkl'))"
   ]
  },
  {
   "cell_type": "code",
   "execution_count": 7,
   "id": "807dce99-442c-4213-96b4-db84dfbf7901",
   "metadata": {},
   "outputs": [
    {
     "name": "stdout",
     "output_type": "stream",
     "text": [
      "<class 'pandas.core.frame.DataFrame'>\n",
      "RangeIndex: 32404859 entries, 0 to 32404858\n",
      "Data columns (total 33 columns):\n",
      " #   Column                 Dtype  \n",
      "---  ------                 -----  \n",
      " 0   product_id             int64  \n",
      " 1   product_name           object \n",
      " 2   aisle_id               int64  \n",
      " 3   department_id          int64  \n",
      " 4   prices                 float64\n",
      " 5   order_id               int64  \n",
      " 6   user_id                int64  \n",
      " 7   order_number           int64  \n",
      " 8   orders_day_of_week     int64  \n",
      " 9   order_hour_of_day      int64  \n",
      " 10  days_since_last_order  float64\n",
      " 11  new_customer           bool   \n",
      " 12  add_to_cart_order      int64  \n",
      " 13  reordered              int64  \n",
      " 14  price_range_loc        object \n",
      " 15  busiest_day            object \n",
      " 16  busiests_day           object \n",
      " 17  Busiest_period_of_day  object \n",
      " 18  max_order              int64  \n",
      " 19  loyalty_flag           object \n",
      " 20  average_spend          float64\n",
      " 21  spender_flag           object \n",
      " 22  Customer_frequency     float64\n",
      " 23  frequency_flag         object \n",
      " 24  First Name             object \n",
      " 25  Last Name              object \n",
      " 26  Gender                 object \n",
      " 27  State                  object \n",
      " 28  Age                    int64  \n",
      " 29  Date Joined            object \n",
      " 30  Number of Dependents   int64  \n",
      " 31  Family Status          object \n",
      " 32  Income                 int64  \n",
      "dtypes: bool(1), float64(4), int64(14), object(14)\n",
      "memory usage: 7.8+ GB\n"
     ]
    }
   ],
   "source": [
    "instacart.info()"
   ]
  },
  {
   "cell_type": "code",
   "execution_count": 9,
   "id": "6835f750-9ec4-44ae-a346-ebf85d15b153",
   "metadata": {},
   "outputs": [],
   "source": [
    "instacart = instacart.astype({\n",
    "    'product_id': 'int32',\n",
    "    'aisle_id': 'int8',\n",
    "    'department_id': 'int8',\n",
    "    'order_id': 'int32',\n",
    "    'user_id': 'int32',\n",
    "    'order_number': 'int8',\n",
    "    'orders_day_of_week': 'int8',\n",
    "    'order_hour_of_day': 'int8',\n",
    "    'add_to_cart_order': 'int8',\n",
    "    'reordered': 'int8',\n",
    "    'max_order': 'int8',\n",
    "    'Age': 'int8',\n",
    "    'Number of Dependents': 'int8',\n",
    "    'Income': 'int32',\n",
    "    'days_since_last_order': 'float32',\n",
    "    'prices': 'float32',\n",
    "    'average_spend': 'float32',\n",
    "    'Customer_frequency': 'float32'\n",
    "\n",
    "    })"
   ]
  },
  {
   "cell_type": "code",
   "execution_count": 11,
   "id": "91cff5ac-b319-4ea3-bb61-28596f59f91b",
   "metadata": {
    "scrolled": true
   },
   "outputs": [
    {
     "name": "stdout",
     "output_type": "stream",
     "text": [
      "<class 'pandas.core.frame.DataFrame'>\n",
      "RangeIndex: 32404859 entries, 0 to 32404858\n",
      "Data columns (total 33 columns):\n",
      " #   Column                 Dtype  \n",
      "---  ------                 -----  \n",
      " 0   product_id             int32  \n",
      " 1   product_name           object \n",
      " 2   aisle_id               int8   \n",
      " 3   department_id          int8   \n",
      " 4   prices                 float32\n",
      " 5   order_id               int32  \n",
      " 6   user_id                int32  \n",
      " 7   order_number           int8   \n",
      " 8   orders_day_of_week     int8   \n",
      " 9   order_hour_of_day      int8   \n",
      " 10  days_since_last_order  float32\n",
      " 11  new_customer           bool   \n",
      " 12  add_to_cart_order      int8   \n",
      " 13  reordered              int8   \n",
      " 14  price_range_loc        object \n",
      " 15  busiest_day            object \n",
      " 16  busiests_day           object \n",
      " 17  Busiest_period_of_day  object \n",
      " 18  max_order              int8   \n",
      " 19  loyalty_flag           object \n",
      " 20  average_spend          float32\n",
      " 21  spender_flag           object \n",
      " 22  Customer_frequency     float32\n",
      " 23  frequency_flag         object \n",
      " 24  First Name             object \n",
      " 25  Last Name              object \n",
      " 26  Gender                 object \n",
      " 27  State                  object \n",
      " 28  Age                    int8   \n",
      " 29  Date Joined            object \n",
      " 30  Number of Dependents   int8   \n",
      " 31  Family Status          object \n",
      " 32  Income                 int32  \n",
      "dtypes: bool(1), float32(4), int32(4), int8(10), object(14)\n",
      "memory usage: 4.7+ GB\n"
     ]
    }
   ],
   "source": [
    "instacart.info()"
   ]
  },
  {
   "cell_type": "code",
   "execution_count": 13,
   "id": "0d17437b-527a-4cae-b797-22da73c17c88",
   "metadata": {},
   "outputs": [],
   "source": [
    "instacart.to_pickle(r'C:\\Users\\danac\\Downloads\\Instacart Basket Analysis Dana Roggero\\02 Data\\Prepared Data\\instacart_reduced2.pkl')"
   ]
  }
 ],
 "metadata": {
  "kernelspec": {
   "display_name": "Python 3 (ipykernel)",
   "language": "python",
   "name": "python3"
  },
  "language_info": {
   "codemirror_mode": {
    "name": "ipython",
    "version": 3
   },
   "file_extension": ".py",
   "mimetype": "text/x-python",
   "name": "python",
   "nbconvert_exporter": "python",
   "pygments_lexer": "ipython3",
   "version": "3.12.7"
  }
 },
 "nbformat": 4,
 "nbformat_minor": 5
}
